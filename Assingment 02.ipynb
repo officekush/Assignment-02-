{
 "cells": [
  {
   "cell_type": "code",
   "execution_count": 1,
   "id": "3c44878e-907d-41a1-8aa8-30f51157d1b6",
   "metadata": {},
   "outputs": [],
   "source": [
    "# Ans no 1"
   ]
  },
  {
   "cell_type": "code",
   "execution_count": 2,
   "id": "6b3cf756-4822-4e15-bfc8-8c49153b4a4b",
   "metadata": {},
   "outputs": [],
   "source": [
    "# In python you can comment by using (#) character it used to describe or explain your comment easly or while doing practice you can easily make notes also.\n",
    "# there are two types of comments first single line comment which you can input by using (#).\n",
    "# secound is multiline comment which you can input by using (''' or \"\"\") multiple strings this can be used while writting paragraphs ."
   ]
  },
  {
   "cell_type": "code",
   "execution_count": 3,
   "id": "ebbc86c4-0870-487f-8209-af43f304ee2e",
   "metadata": {},
   "outputs": [],
   "source": [
    "# Ans no 2\n",
    "''' \n",
    "In Python, variables are used to store and reference data values. \n",
    "They serve as named containers that hold information that can be used and manipulated within a program.\n",
    "Variables can store various types of data, such as numbers, strings, lists, or more complex objects.\n",
    "'''\n",
    "'''Variable names in Python must follow certain rules:\n",
    "\n",
    "They can contain letters (a-z, A-Z), digits (0-9), and underscores (_).\n",
    "The first character of the variable name cannot be a digit.\n",
    "Variable names are case-sensitive, so name and Name are different variables. '''\n",
    "\n",
    "Name = 'kush'  # Assigning string value to variable name \n",
    "age = 21 # Assigning int value to variablr age "
   ]
  },
  {
   "cell_type": "code",
   "execution_count": 4,
   "id": "41e30db0-0a89-45a9-90d5-cf9e7df7e38c",
   "metadata": {},
   "outputs": [
    {
     "data": {
      "text/plain": [
       "int"
      ]
     },
     "execution_count": 4,
     "metadata": {},
     "output_type": "execute_result"
    }
   ],
   "source": [
    "'''\n",
    "Ans no 3 \n",
    "In Python, you can convert one data type to another using type conversion or type casting. \n",
    "it is inbuilt function in python.\n",
    "for example '''\n",
    "a=10\n",
    "type (a)"
   ]
  },
  {
   "cell_type": "code",
   "execution_count": 6,
   "id": "186cab1a-f821-4027-9292-253761df4465",
   "metadata": {},
   "outputs": [
    {
     "data": {
      "text/plain": [
       "'10'"
      ]
     },
     "execution_count": 6,
     "metadata": {},
     "output_type": "execute_result"
    }
   ],
   "source": [
    "str(a) # this is how type casting works type pf a was int but by doing type casting i have converted it into str "
   ]
  },
  {
   "cell_type": "code",
   "execution_count": null,
   "id": "ed7b7f0b-db7d-4dfe-b52a-ae2abb1fbee3",
   "metadata": {},
   "outputs": [],
   "source": [
    "'''\n",
    "Ans no 4 \n",
    "To write and execute a Python script from the command line, follow these steps:\n",
    "\n",
    "1. Open a text editor and create a new file. Enter your Python code in the file, and save it with a `.py` extension. For example, you can create a file called `script.py` and add your Python code inside.\n",
    "\n",
    "2. Open a command-line interface or terminal.\n",
    "\n",
    "3. Navigate to the directory where your Python script is located using the `cd` command. For example, if your script is located in the `Desktop` folder, you can use the following command in the terminal:\n",
    "   ```\n",
    "   cd Desktop\n",
    "   ```\n",
    "\n",
    "4. Once you are in the correct directory, you can execute the Python script by typing the following command and pressing Enter:\n",
    "   ```\n",
    "   python script.py\n",
    "   ```\n",
    "   Replace `script.py` with the actual filename of your Python script.\n",
    "\n",
    "5. The Python interpreter will execute the script, and the output (if any) will be displayed in the terminal.\n",
    "\n",
    "It's important to ensure that you have Python installed on your system and added to the system's PATH environment variable. You can check if Python is installed and accessible by opening a terminal and typing `python --version`.\n",
    "If Python is installed, it will display the version information.\n",
    "\n",
    "By following these steps, you can write a Python script in a text editor, save it with a `.py` extension, navigate to the script's directory in the terminal, and execute it using the `python` command."
   ]
  },
  {
   "cell_type": "code",
   "execution_count": 10,
   "id": "9d7a78fd-390c-456b-8faa-0e2485cbe252",
   "metadata": {},
   "outputs": [
    {
     "data": {
      "text/plain": [
       "[2, 3]"
      ]
     },
     "execution_count": 10,
     "metadata": {},
     "output_type": "execute_result"
    }
   ],
   "source": [
    "'''\n",
    "Ans no 5 '''\n",
    "my_list=[1,2,3,4,5]\n",
    "my_list[1:3]"
   ]
  },
  {
   "cell_type": "code",
   "execution_count": 11,
   "id": "1ff4bd99-1824-4cef-91b6-53d7f74f63a7",
   "metadata": {},
   "outputs": [],
   "source": [
    "''' \n",
    "Ans no 6 \n",
    "In mathematics, a complex number is a number that comprises both a real part and an imaginary part. \n",
    "It is written in the form \"a + bi\", where \"a\" represents the real part, \"b\" represents the imaginary part, and \"i\" represents the imaginary unit (√-1).\n",
    "\n",
    "In Python, complex numbers can be represented using the built-in complex data type. \n",
    "The complex type in Python allows you to work with complex numbers and perform operations involving real and imaginary components.\n",
    "for example- '''\n",
    "c=(8+4j)  # here 8 is real no and 4j is imaginary \n",
    "c1=complex(3+2)\n"
   ]
  },
  {
   "cell_type": "code",
   "execution_count": 12,
   "id": "57531d76-83a2-4dc5-9162-f19b16d5f68e",
   "metadata": {},
   "outputs": [
    {
     "data": {
      "text/plain": [
       "complex"
      ]
     },
     "execution_count": 12,
     "metadata": {},
     "output_type": "execute_result"
    }
   ],
   "source": [
    "type(c)"
   ]
  },
  {
   "cell_type": "code",
   "execution_count": 14,
   "id": "97210e11-8e98-41be-999f-af1c5f3abaea",
   "metadata": {},
   "outputs": [
    {
     "data": {
      "text/plain": [
       "complex"
      ]
     },
     "execution_count": 14,
     "metadata": {},
     "output_type": "execute_result"
    }
   ],
   "source": [
    "type(c1)"
   ]
  },
  {
   "cell_type": "code",
   "execution_count": 16,
   "id": "c02d04b7-9707-4888-ad9a-d43d12734267",
   "metadata": {},
   "outputs": [
    {
     "data": {
      "text/plain": [
       "(5+0j)"
      ]
     },
     "execution_count": 16,
     "metadata": {},
     "output_type": "execute_result"
    }
   ],
   "source": [
    "c1  #here we can see that in python in every complex no you have to input j with imaginary no "
   ]
  },
  {
   "cell_type": "code",
   "execution_count": 18,
   "id": "192c87d8-9b60-48ad-af06-e328b2f1d3c0",
   "metadata": {},
   "outputs": [],
   "source": [
    "'''\n",
    "Ans no 7 \n",
    "correct way of assigning value to variable is putting (=) between variable and value.\n",
    "for example-'''\n",
    "age = 25"
   ]
  },
  {
   "cell_type": "code",
   "execution_count": 19,
   "id": "a273faa5-dd3f-4c4d-be49-d75f1062ae32",
   "metadata": {},
   "outputs": [
    {
     "data": {
      "text/plain": [
       "25"
      ]
     },
     "execution_count": 19,
     "metadata": {},
     "output_type": "execute_result"
    }
   ],
   "source": [
    "age"
   ]
  },
  {
   "cell_type": "code",
   "execution_count": 1,
   "id": "d7bbce14-48b2-4329-a71b-1892d8f7c9eb",
   "metadata": {},
   "outputs": [],
   "source": [
    "''' Ans no 8 '''\n",
    "price=9.99"
   ]
  },
  {
   "cell_type": "code",
   "execution_count": 2,
   "id": "51008784-f838-443f-a0e6-271727deaf44",
   "metadata": {},
   "outputs": [
    {
     "data": {
      "text/plain": [
       "float"
      ]
     },
     "execution_count": 2,
     "metadata": {},
     "output_type": "execute_result"
    }
   ],
   "source": [
    "type(price)"
   ]
  },
  {
   "cell_type": "code",
   "execution_count": 3,
   "id": "8b939083-79be-464f-a970-94c3b739a11c",
   "metadata": {},
   "outputs": [],
   "source": [
    "# as you can se in this previous code type of variable price is float "
   ]
  },
  {
   "cell_type": "code",
   "execution_count": 4,
   "id": "6d50f6f7-d71c-428e-9797-8649922e407b",
   "metadata": {},
   "outputs": [],
   "source": [
    "# Ans no 9\n",
    "Name = \"kush maheshwari\" \n",
    "# now here i have given variable name. Now if i want to call kush maheshwari then i will just call variable Name in code. "
   ]
  },
  {
   "cell_type": "code",
   "execution_count": 6,
   "id": "49d6e91d-0403-49dc-8605-d68509674689",
   "metadata": {},
   "outputs": [
    {
     "data": {
      "text/plain": [
       "' kush maheshwari'"
      ]
     },
     "execution_count": 6,
     "metadata": {},
     "output_type": "execute_result"
    }
   ],
   "source": [
    "Name"
   ]
  },
  {
   "cell_type": "code",
   "execution_count": 7,
   "id": "e9452cd5-5cb9-4f06-9cbf-cc24d87cfdc2",
   "metadata": {},
   "outputs": [],
   "source": [
    "# Ans no 10\n",
    "h = \"Hello, World!\""
   ]
  },
  {
   "cell_type": "code",
   "execution_count": 10,
   "id": "130d10c8-539a-4270-8d59-42b4c5e684cf",
   "metadata": {},
   "outputs": [
    {
     "data": {
      "text/plain": [
       "' World'"
      ]
     },
     "execution_count": 10,
     "metadata": {},
     "output_type": "execute_result"
    }
   ],
   "source": [
    "h[6:12]"
   ]
  },
  {
   "cell_type": "code",
   "execution_count": null,
   "id": "5bb784da-fe4c-4b8e-ba7d-fc6659b2698f",
   "metadata": {},
   "outputs": [],
   "source": [
    "# Ans no 11"
   ]
  }
 ],
 "metadata": {
  "kernelspec": {
   "display_name": "Python 3 (ipykernel)",
   "language": "python",
   "name": "python3"
  },
  "language_info": {
   "codemirror_mode": {
    "name": "ipython",
    "version": 3
   },
   "file_extension": ".py",
   "mimetype": "text/x-python",
   "name": "python",
   "nbconvert_exporter": "python",
   "pygments_lexer": "ipython3",
   "version": "3.10.8"
  }
 },
 "nbformat": 4,
 "nbformat_minor": 5
}
